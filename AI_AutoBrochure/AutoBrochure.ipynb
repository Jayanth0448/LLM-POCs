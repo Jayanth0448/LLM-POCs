{
 "cells": [
  {
   "cell_type": "code",
   "execution_count": null,
   "id": "f4311c68-c131-4149-b7da-ab77ff871822",
   "metadata": {},
   "outputs": [],
   "source": [
    "import os\n",
    "from openai import OpenAI\n",
    "from dotenv import load_dotenv\n",
    "from IPython.display import Markdown,display"
   ]
  },
  {
   "cell_type": "code",
   "execution_count": null,
   "id": "dadb5b5b-1aa9-49bc-9063-e4f3ce3cf69b",
   "metadata": {},
   "outputs": [],
   "source": [
    "# Initialize and constants\n",
    "\n",
    "load_dotenv(override=True)\n",
    "api_key = os.getenv('OPENAI_API_KEY')\n",
    "\n",
    "if api_key and api_key.startswith('sk-proj-') and len(api_key)>10:\n",
    "    print(\"API key looks good so far\")\n",
    "else:\n",
    "    print(\"There might be a problem with your API key? Please visit the troubleshooting notebook!\")\n",
    "    \n",
    "MODEL = 'gpt-4o-mini'\n",
    "openai = OpenAI()"
   ]
  },
  {
   "cell_type": "code",
   "execution_count": null,
   "id": "460868a5-ca02-4e7f-acd0-7266093d0075",
   "metadata": {},
   "outputs": [],
   "source": [
    "system_prompt=\"you are an assistant\""
   ]
  },
  {
   "cell_type": "code",
   "execution_count": null,
   "id": "5977e2e2-6513-458e-a775-1195810d2675",
   "metadata": {},
   "outputs": [],
   "source": [
    "user_prompt=input()"
   ]
  },
  {
   "cell_type": "code",
   "execution_count": null,
   "id": "9ac9ab32-1804-4bbe-95a0-29db977920c5",
   "metadata": {},
   "outputs": [],
   "source": [
    "response = openai.chat.completions.create(\n",
    "        model=MODEL,\n",
    "        messages=[\n",
    "            {\"role\": \"system\", \"content\": system_prompt},\n",
    "            {\"role\": \"user\", \"content\": user_prompt}\n",
    "      ]\n",
    "    )\n",
    "result = response.choices[0].message.content\n",
    "display(Markdown(result))"
   ]
  },
  {
   "cell_type": "code",
   "execution_count": null,
   "id": "9f662e95-4252-445f-9eb9-977b27970a6d",
   "metadata": {},
   "outputs": [],
   "source": []
  }
 ],
 "metadata": {
  "kernelspec": {
   "display_name": "Python 3 (ipykernel)",
   "language": "python",
   "name": "python3"
  },
  "language_info": {
   "codemirror_mode": {
    "name": "ipython",
    "version": 3
   },
   "file_extension": ".py",
   "mimetype": "text/x-python",
   "name": "python",
   "nbconvert_exporter": "python",
   "pygments_lexer": "ipython3",
   "version": "3.11.13"
  }
 },
 "nbformat": 4,
 "nbformat_minor": 5
}
